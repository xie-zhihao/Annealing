{
 "cells": [
  {
   "cell_type": "code",
   "execution_count": null,
   "id": "d574aa29-0b7b-4704-a572-564a8160b54c",
   "metadata": {},
   "outputs": [],
   "source": [
    "import numpy as np\n",
    "import matplotlib.pyplot as plt\n",
    "import matplotlib.animation as animation\n",
    "\n"
   ]
  },
  {
   "cell_type": "code",
   "execution_count": 3,
   "id": "eaedc80c-fbc8-4979-861c-7dff018e84ad",
   "metadata": {},
   "outputs": [
    {
     "ename": "SyntaxError",
     "evalue": "expected ':' (173866067.py, line 10)",
     "output_type": "error",
     "traceback": [
      "\u001b[1;36m  Cell \u001b[1;32mIn[3], line 10\u001b[1;36m\u001b[0m\n\u001b[1;33m    class IsingMetropolis\u001b[0m\n\u001b[1;37m                         ^\u001b[0m\n\u001b[1;31mSyntaxError\u001b[0m\u001b[1;31m:\u001b[0m expected ':'\n"
     ]
    }
   ],
   "source": [
    "# Parameters\n",
    "L = 30\n",
    "T = 2.0\n",
    "J = 1\n",
    "kB = 1\n",
    "h = 1 #external field\n",
    "Lx = 10\n",
    "Ly = 10\n",
    "\n",
    "class IsingMetropolis\n",
    "\n",
    "# Initialize spins randomly\n",
    "def generate_spin_matrix(Lx,Ly):\n",
    "    return np.random.choice([1, -1], size=(Lx, Ly))\n",
    "\n",
    "run_matrix = generate_spin_matrix(L)\n",
    "\n",
    "# Compute Hamiltonian\n",
    "def H_2D(Matrix, J=1):\n",
    "    H = 0\n",
    "    Lx, Ly = Matrix.shape\n",
    "    for i in range(Lx):\n",
    "        for j in range(Ly):\n",
    "            S = Matrix[i, j]\n",
    "            neighbor_right = Matrix[(i + 1) % Lx, j]\n",
    "            neighbor_down = Matrix[i, (j + 1) % Ly]\n",
    "            #H -= J * S * (neighbor_right + neighbor_down)\n",
    "            H = H - J * S * (neighbor_right + neighbor_down) - h * S\n",
    "    return H\n",
    "\n",
    "# Energy change if a spin is flipped\n",
    "def deltaE(Matrix, i, j):\n",
    "    Lx, Ly = Matrix.shape\n",
    "    S = Matrix[i, j]\n",
    "    neighbors = (Matrix[(i-1)%Lx, j] + Matrix[(i+1)%Lx, j] +\n",
    "                 Matrix[i, (j-1)%Ly] + Matrix[i, (j+1)%Ly])\n",
    "    return 2 * J * S * neighbors\n",
    "\n",
    "# Attempt to flip each spin once per frame\n",
    "def flip(Matrix):\n",
    "    Lx, Ly = Matrix.shape\n",
    "    for _ in range(Lx * Ly):\n",
    "        i = np.random.randint(0, Lx)\n",
    "        j = np.random.randint(0, Ly)\n",
    "        dE = deltaE(Matrix, i, j)\n",
    "        if dE <= 0 or np.random.rand() < np.exp(-dE / (kB * T)):\n",
    "            Matrix[i, j] *= -1\n",
    "    return Matrix\n",
    "\n",
    "#Flip one spin each flip_trial\n",
    "def single_flip_trial(Matrix):\n",
    "    i = np.random.randint(0, Lx)\n",
    "    j = np.random.randint(0, Ly)\n",
    "    dE = deltaE(Matrix, i, j)\n",
    "    if dE <= 0 or np.random.rand() < np.exp(-dE / (kB * T)):\n",
    "            Matrix[i, j] *= -1\n",
    "    return Matrix\n"
   ]
  },
  {
   "cell_type": "code",
   "execution_count": null,
   "id": "0d914a7e-7a45-40e3-b087-a87d017cb562",
   "metadata": {},
   "outputs": [],
   "source": []
  },
  {
   "cell_type": "code",
   "execution_count": null,
   "id": "3eb37d12-693b-49eb-bff6-02ab7126e0f2",
   "metadata": {},
   "outputs": [],
   "source": [
    "# Set up figure\n",
    "fig, ax = plt.subplots()\n",
    "img = ax.imshow(run_matrix, cmap='bwr', vmin=-1, vmax=1)\n",
    "plt.colorbar(img, ax=ax, label='Spin')\n",
    "\n",
    "# Animation update function\n",
    "def update(step):\n",
    "    global run_matrix\n",
    "    run_matrix = flip(run_matrix)\n",
    "    H = H_2D(run_matrix)\n",
    "    img.set_array(run_matrix)\n",
    "    ax.set_title(f\"Step {step+1}, Hamiltonian: {H:.2f}\")\n",
    "    print(f\"Step {step+1}: H = {H:.2f}\")\n",
    "    return [img]\n",
    "\n",
    "# Run animation\n",
    "n_steps = 100\n",
    "ani = animation.FuncAnimation(fig, update, frames=n_steps, interval=100, blit=True)\n",
    "\n",
    "plt.show()"
   ]
  },
  {
   "cell_type": "code",
   "execution_count": 1,
   "id": "94f142e6-9876-48cc-92fc-ac0471663cc7",
   "metadata": {},
   "outputs": [
    {
     "ename": "ModuleNotFoundError",
     "evalue": "No module named 'torch'",
     "output_type": "error",
     "traceback": [
      "\u001b[1;31m---------------------------------------------------------------------------\u001b[0m",
      "\u001b[1;31mModuleNotFoundError\u001b[0m                       Traceback (most recent call last)",
      "Cell \u001b[1;32mIn[1], line 1\u001b[0m\n\u001b[1;32m----> 1\u001b[0m \u001b[38;5;28;01mimport\u001b[39;00m \u001b[38;5;21;01mtorch\u001b[39;00m\n\u001b[0;32m      2\u001b[0m \u001b[38;5;28;01mimport\u001b[39;00m \u001b[38;5;21;01mtorch\u001b[39;00m\u001b[38;5;21;01m.\u001b[39;00m\u001b[38;5;21;01mnn\u001b[39;00m \u001b[38;5;28;01mas\u001b[39;00m \u001b[38;5;21;01mnn\u001b[39;00m\n\u001b[0;32m      3\u001b[0m \u001b[38;5;28;01mimport\u001b[39;00m \u001b[38;5;21;01mtorch\u001b[39;00m\u001b[38;5;21;01m.\u001b[39;00m\u001b[38;5;21;01mnn\u001b[39;00m\u001b[38;5;21;01m.\u001b[39;00m\u001b[38;5;21;01mfunctional\u001b[39;00m \u001b[38;5;28;01mas\u001b[39;00m \u001b[38;5;21;01mF\u001b[39;00m\n",
      "\u001b[1;31mModuleNotFoundError\u001b[0m: No module named 'torch'"
     ]
    }
   ],
   "source": [
    "import torch\n",
    "import torch.nn as nn\n",
    "import torch.nn.functional as F\n",
    "import torch.optim as optim\n",
    "\n",
    "# 模拟输入数据，例如 XOR 问题\n",
    "X = torch.tensor([[0,0],[0,1],[1,0],[1,1]], dtype=torch.float32)\n",
    "y = torch.tensor([[0],[1],[1],[0]], dtype=torch.float32)\n",
    "\n",
    "# 定义两层神经网络\n",
    "class SimpleNN(nn.Module):\n",
    "    def __init__(self):\n",
    "        super(SimpleNN, self).__init__()\n",
    "        self.fc1 = nn.Linear(2, 4)  # 输入层到隐藏层（2 -> 4）\n",
    "        self.fc2 = nn.Linear(4, 1)  # 隐藏层到输出层（4 -> 1）\n",
    "\n",
    "    def forward(self, x):\n",
    "        x = F.relu(self.fc1(x))     # ReLU 激活\n",
    "        x = torch.sigmoid(self.fc2(x))  # Sigmoid 输出\n",
    "        return x\n",
    "\n",
    "# 创建模型\n",
    "model = SimpleNN()\n",
    "\n",
    "# 定义损失函数和优化器\n",
    "criterion = nn.BCELoss()  # 二分类交叉熵\n",
    "optimizer = optim.Adam(model.parameters(), lr=0.1)\n",
    "\n",
    "# 训练\n",
    "epochs = 1000\n",
    "for epoch in range(epochs):\n",
    "    y_pred = model(X)\n",
    "    loss = criterion(y_pred, y)\n",
    "    \n",
    "    optimizer.zero_grad()\n",
    "    loss.backward()\n",
    "    optimizer.step()\n",
    "\n",
    "    if epoch % 100 == 0:\n",
    "        print(f\"Epoch {epoch} Loss: {loss.item():.4f}\")\n",
    "\n",
    "# 测试\n",
    "with torch.no_grad():\n",
    "    pred = model(X)\n",
    "    print(\"\\nPredictions:\")\n",
    "    print(pred)\n",
    "    print(\"Classified (round):\")\n",
    "    print(torch.round(pred))\n"
   ]
  },
  {
   "cell_type": "code",
   "execution_count": null,
   "id": "115acd64-f458-4d98-b261-d40c44fa4bc4",
   "metadata": {},
   "outputs": [],
   "source": []
  }
 ],
 "metadata": {
  "kernelspec": {
   "display_name": "Python 3 (ipykernel)",
   "language": "python",
   "name": "python3"
  },
  "language_info": {
   "codemirror_mode": {
    "name": "ipython",
    "version": 3
   },
   "file_extension": ".py",
   "mimetype": "text/x-python",
   "name": "python",
   "nbconvert_exporter": "python",
   "pygments_lexer": "ipython3",
   "version": "3.12.4"
  }
 },
 "nbformat": 4,
 "nbformat_minor": 5
}
